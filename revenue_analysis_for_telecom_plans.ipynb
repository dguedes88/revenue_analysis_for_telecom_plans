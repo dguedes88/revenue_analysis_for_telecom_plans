{
 "cells": [
  {
   "cell_type": "markdown",
   "metadata": {
    "id": "eAkbw7Ueuj8X"
   },
   "source": [
    "# Qual é o melhor plano?\n",
    "\n",
    "Você trabalha como analista para a empresa de telecomunicações Megaline. A empresa oferece aos clientes dois planos pré-pagos: Surf e Ultimate. O departamento comercial quer saber qual dos planos gera mais receita para ajustar o orçamento de publicidade.\n",
    "\n",
    "Você vai realizar uma análise preliminar dos planos com base em uma pequena seleção de clientes. Você terá dados de 500 clientes da Megaline: que clientes são, de onde eles são, qual plano usam e o número de chamadas e mensagens realizadas em 2018. Seu trabalho é analisar o comportamento dos clientes e determinar qual plano pré-pago gera mais receita."
   ]
  },
  {
   "cell_type": "markdown",
   "metadata": {
    "id": "Z_iOKMX_uj8a"
   },
   "source": [
    "<i style=\"color:darkblue;\">O propósito deste projeto é analisar os dados de uma empresa de telecomunicações para entender o comportamento dos usuários e a receita gerada pelos diferentes planos e regiões. Pretendo identificar padrões de uso dos serviços de chamadas, mensagens e internet ao longo do tempo, comparar a receita entre os planos \"Ultimate\" e \"Surf\" e testar se a receita dos usuários da área de NY-NJ difere da de outras regiões. Essas análises nos ajudarão a identificar oportunidades de otimização dos planos e desenvolver estratégias de marketing para aumentar a receita da empresa.\n",
    "</i>"
   ]
  },
  {
   "cell_type": "markdown",
   "metadata": {
    "id": "lnomf-3Xuj8b"
   },
   "source": [
    "## Inicialização"
   ]
  },
  {
   "cell_type": "code",
   "execution_count": 1,
   "metadata": {
    "id": "JdJusn5ouj8c"
   },
   "outputs": [],
   "source": [
    "# Carregando todas as bibliotecas\n",
    "\n",
    "import numpy as np\n",
    "import math as mt\n",
    "import matplotlib.pyplot as plt\n",
    "import pandas as pd\n",
    "import seaborn as sns\n",
    "from scipy import stats as st"
   ]
  },
  {
   "cell_type": "markdown",
   "metadata": {
    "id": "rzqsCrgquj8d"
   },
   "source": [
    "## Carregue os dados"
   ]
  },
  {
   "cell_type": "code",
   "execution_count": 2,
   "metadata": {
    "id": "HmzmQRXIuj8e"
   },
   "outputs": [],
   "source": [
    "# Carregue os arquivos de dados em diferentes DataFrames\n",
    "\n",
    "calls = pd.read_csv('/datasets/megaline_calls.csv')\n",
    "internet = pd.read_csv('/datasets/megaline_internet.csv')\n",
    "messages = pd.read_csv('/datasets/megaline_messages.csv')\n",
    "plans = pd.read_csv('/datasets/megaline_plans.csv')\n",
    "users = pd.read_csv('/datasets/megaline_users.csv')"
   ]
  },
  {
   "cell_type": "markdown",
   "metadata": {
    "id": "XQh-EeiIuj8e"
   },
   "source": [
    "## Prepare os dados"
   ]
  },
  {
   "cell_type": "markdown",
   "metadata": {
    "id": "TlZUw_Cyuj8f"
   },
   "source": [
    "## Planos"
   ]
  },
  {
   "cell_type": "code",
   "execution_count": 3,
   "metadata": {
    "id": "x9qB5mAOuj8f"
   },
   "outputs": [
    {
     "name": "stdout",
     "output_type": "stream",
     "text": [
      "<class 'pandas.core.frame.DataFrame'>\n",
      "RangeIndex: 2 entries, 0 to 1\n",
      "Data columns (total 8 columns):\n",
      " #   Column                 Non-Null Count  Dtype  \n",
      "---  ------                 --------------  -----  \n",
      " 0   messages_included      2 non-null      int64  \n",
      " 1   mb_per_month_included  2 non-null      int64  \n",
      " 2   minutes_included       2 non-null      int64  \n",
      " 3   usd_monthly_pay        2 non-null      int64  \n",
      " 4   usd_per_gb             2 non-null      int64  \n",
      " 5   usd_per_message        2 non-null      float64\n",
      " 6   usd_per_minute         2 non-null      float64\n",
      " 7   plan_name              2 non-null      object \n",
      "dtypes: float64(2), int64(5), object(1)\n",
      "memory usage: 256.0+ bytes\n"
     ]
    }
   ],
   "source": [
    "# Imprima as informações gerais/resumidas sobre o DataFrame dos planos\n",
    "\n",
    "plans.info()"
   ]
  },
  {
   "cell_type": "code",
   "execution_count": 4,
   "metadata": {
    "id": "9MRo7tyVuj8f"
   },
   "outputs": [
    {
     "name": "stdout",
     "output_type": "stream",
     "text": [
      "   messages_included  mb_per_month_included  minutes_included  \\\n",
      "0                 50                  15360               500   \n",
      "1               1000                  30720              3000   \n",
      "\n",
      "   usd_monthly_pay  usd_per_gb  usd_per_message  usd_per_minute plan_name  \n",
      "0               20          10             0.03            0.03      surf  \n",
      "1               70           7             0.01            0.01  ultimate  \n"
     ]
    }
   ],
   "source": [
    "# Imprima uma amostra de dados dos planos\n",
    "\n",
    "print(plans)"
   ]
  },
  {
   "cell_type": "markdown",
   "metadata": {
    "id": "P8hzr-lquj8f"
   },
   "source": [
    "<i style=\"color:darkblue;\">O DataFrame `plans` contém informações sobre 2 planos de telecomunicações e possui 8 colunas com diferentes tipos de dados: `int64`, `float64` e `object`, não há dados ausentes neste DataFrame, conforme indicado pelo método `info`, ou seja, os dados no DataFrame `plans` estão bem estruturados, claros e não apresentam problemas imediatos ou necessidade de adequação dos tipos de dados.\n",
    "</i>"
   ]
  },
  {
   "cell_type": "markdown",
   "metadata": {
    "id": "KXtaxmKsuj8f"
   },
   "source": [
    "## Corrija os dados"
   ]
  },
  {
   "cell_type": "markdown",
   "metadata": {
    "id": "9BWuM80Buj8f"
   },
   "source": [
    "<i style=\"color:darkblue;\">Não haviam problemas a serem corrigidos.\n",
    "</i>"
   ]
  },
  {
   "cell_type": "code",
   "execution_count": null,
   "metadata": {
    "id": "Hen8bhG1uj8g"
   },
   "outputs": [],
   "source": []
  },
  {
   "cell_type": "markdown",
   "metadata": {
    "id": "kLcdKu6Duj8g"
   },
   "source": [
    "## Enriqueça os dados"
   ]
  },
  {
   "cell_type": "markdown",
   "metadata": {
    "id": "x1L6F_gmuj8g"
   },
   "source": [
    "<i style=\"color:darkblue;\">Para esse DataFrame não há nada a acrescentar.</i>"
   ]
  },
  {
   "cell_type": "code",
   "execution_count": null,
   "metadata": {
    "id": "6j4XA9_ruj8g"
   },
   "outputs": [],
   "source": []
  },
  {
   "cell_type": "markdown",
   "metadata": {
    "id": "YJg2O9qjuj8g"
   },
   "source": [
    "## Usuários"
   ]
  },
  {
   "cell_type": "code",
   "execution_count": 5,
   "metadata": {
    "id": "7JzxwD2juj8g"
   },
   "outputs": [
    {
     "name": "stdout",
     "output_type": "stream",
     "text": [
      "<class 'pandas.core.frame.DataFrame'>\n",
      "RangeIndex: 500 entries, 0 to 499\n",
      "Data columns (total 8 columns):\n",
      " #   Column      Non-Null Count  Dtype \n",
      "---  ------      --------------  ----- \n",
      " 0   user_id     500 non-null    int64 \n",
      " 1   first_name  500 non-null    object\n",
      " 2   last_name   500 non-null    object\n",
      " 3   age         500 non-null    int64 \n",
      " 4   city        500 non-null    object\n",
      " 5   reg_date    500 non-null    object\n",
      " 6   plan        500 non-null    object\n",
      " 7   churn_date  34 non-null     object\n",
      "dtypes: int64(2), object(6)\n",
      "memory usage: 31.4+ KB\n"
     ]
    }
   ],
   "source": [
    "# Imprima as informações gerais/resumidas sobre o DataFrame dos usuários\n",
    "\n",
    "users.info()"
   ]
  },
  {
   "cell_type": "code",
   "execution_count": 6,
   "metadata": {
    "id": "5KZ8XmD8uj8g"
   },
   "outputs": [
    {
     "name": "stdout",
     "output_type": "stream",
     "text": [
      "     user_id  first_name  last_name  age  \\\n",
      "263     1263       Lucio      Duffy   39   \n",
      "332     1332       Lucas   Saunders   37   \n",
      "355     1355       Digna      Tyson   57   \n",
      "468     1468      Johana        Kim   55   \n",
      "108     1108    Porfirio       Kane   45   \n",
      "16      1016        Jann    Salinas   30   \n",
      "414     1414  Georgianne    Herring   30   \n",
      "200     1200      Delmar      Cross   45   \n",
      "388     1388         Thu       Noel   75   \n",
      "357     1357         Ria      Beach   61   \n",
      "233     1233       Janee    Perkins   33   \n",
      "114     1114        Esta      Estes   55   \n",
      "257     1257     Gabriel  O'donnell   61   \n",
      "342     1342      Eugene     Patton   65   \n",
      "225     1225   Margarito     Barker   41   \n",
      "193     1193    Lacresha      Olsen   18   \n",
      "214     1214        Emil     Robles   34   \n",
      "490     1490       Shane     Cortez   42   \n",
      "213     1213        Carl     Newman   47   \n",
      "250     1250       Milan    Sellers   57   \n",
      "484     1484      Delpha    Baldwin   46   \n",
      "314     1314       Brice     Morgan   35   \n",
      "438     1438      Harvey     Brooks   36   \n",
      "187     1187      Tanner    Goodman   49   \n",
      "308     1308      Samara     Monroe   46   \n",
      "\n",
      "                                               city    reg_date      plan  \\\n",
      "263              Boston-Cambridge-Newton, MA-NH MSA  2018-03-06      surf   \n",
      "332           Atlanta-Sandy Springs-Roswell, GA MSA  2018-03-12      surf   \n",
      "355          Los Angeles-Long Beach-Anaheim, CA MSA  2018-10-07      surf   \n",
      "468                  Denver-Aurora-Lakewood, CO MSA  2018-09-08      surf   \n",
      "108                          Salt Lake City, UT MSA  2018-12-30  ultimate   \n",
      "16                                   Fresno, CA MSA  2018-10-25      surf   \n",
      "414                          Urban Honolulu, HI MSA  2018-03-03      surf   \n",
      "200              Boston-Cambridge-Newton, MA-NH MSA  2018-11-27      surf   \n",
      "388       New York-Newark-Jersey City, NY-NJ-PA MSA  2018-03-28  ultimate   \n",
      "357                             Baton Rouge, LA MSA  2018-05-30      surf   \n",
      "233           Atlanta-Sandy Springs-Roswell, GA MSA  2018-09-11      surf   \n",
      "114       New York-Newark-Jersey City, NY-NJ-PA MSA  2018-07-21      surf   \n",
      "257       New York-Newark-Jersey City, NY-NJ-PA MSA  2018-01-29      surf   \n",
      "342            Indianapolis-Carmel-Anderson, IN MSA  2018-10-21      surf   \n",
      "225                                Columbia, SC MSA  2018-06-07      surf   \n",
      "193        Houston-The Woodlands-Sugar Land, TX MSA  2018-07-07      surf   \n",
      "214          San Francisco-Oakland-Berkeley, CA MSA  2018-01-01  ultimate   \n",
      "490             Sacramento–Roseville–Folsom, CA MSA  2018-01-20  ultimate   \n",
      "213          San Diego-Chula Vista-Carlsbad, CA MSA  2018-11-25  ultimate   \n",
      "250        Houston-The Woodlands-Sugar Land, TX MSA  2018-04-03  ultimate   \n",
      "484             Dallas-Fort Worth-Arlington, TX MSA  2018-11-29      surf   \n",
      "314          Los Angeles-Long Beach-Anaheim, CA MSA  2018-03-06  ultimate   \n",
      "438               Orlando-Kissimmee-Sanford, FL MSA  2018-06-15      surf   \n",
      "187            Austin-Round Rock-Georgetown, TX MSA  2018-02-20      surf   \n",
      "308  Virginia Beach-Norfolk-Newport News, VA-NC MSA  2018-11-22      surf   \n",
      "\n",
      "     churn_date  \n",
      "263         NaN  \n",
      "332         NaN  \n",
      "355         NaN  \n",
      "468         NaN  \n",
      "108         NaN  \n",
      "16          NaN  \n",
      "414  2018-09-01  \n",
      "200         NaN  \n",
      "388         NaN  \n",
      "357         NaN  \n",
      "233         NaN  \n",
      "114         NaN  \n",
      "257         NaN  \n",
      "342         NaN  \n",
      "225         NaN  \n",
      "193         NaN  \n",
      "214         NaN  \n",
      "490         NaN  \n",
      "213         NaN  \n",
      "250         NaN  \n",
      "484         NaN  \n",
      "314         NaN  \n",
      "438         NaN  \n",
      "187         NaN  \n",
      "308         NaN  \n"
     ]
    }
   ],
   "source": [
    "# Imprima uma amostra de dados dos usuários\n",
    "\n",
    "print(users.sample(25))"
   ]
  },
  {
   "cell_type": "markdown",
   "metadata": {
    "id": "XGCgkfLvuj8h"
   },
   "source": [
    "<i style=\"color:darkblue;\">O DataFrame `users` contém informações sobre 500 usuários, com 8 colunas com diferentes tipos de dados: `int64` e `object`. No entanto, a coluna `reg_date` e `churn_date` poderiam ser convertidas para o tipo `datetime` por se tratarem de dados referente a datas, o que facilitaria para futuras análises envolvendo tempo. Existem valores nulos, sendo apenas 34 não nulos, em `churn_date`, o que é esperado, conforme explicado na descrição do projeto, indicando que são usuários que ainda estão usando o serviço na data de corte dos dados. Apesar de parecer bem estruturado, algumas ações de limpeza e pré-processamento podem ser necessárias para facilitar análises futuras.</i>"
   ]
  },
  {
   "cell_type": "markdown",
   "metadata": {
    "id": "ppiEfe3luj8i"
   },
   "source": [
    "### Corrija os dados"
   ]
  },
  {
   "cell_type": "code",
   "execution_count": 10,
   "metadata": {
    "id": "Oa1XFooouj8j"
   },
   "outputs": [
    {
     "name": "stdout",
     "output_type": "stream",
     "text": [
      "user_id                int64\n",
      "first_name            object\n",
      "last_name             object\n",
      "age                    int64\n",
      "city                  object\n",
      "reg_date      datetime64[ns]\n",
      "plan                  object\n",
      "churn_date    datetime64[ns]\n",
      "dtype: object\n"
     ]
    }
   ],
   "source": [
    "# Convertendo as colunas 'reg_date' e 'churn_date' para o tipo datetime\n",
    "\n",
    "users['reg_date'] = pd.to_datetime(users['reg_date'], format= '%Y-%m-%d')\n",
    "users['churn_date'] = pd.to_datetime(users['churn_date'], format= '%Y-%m-%d').fillna('2018-12-31') # Como o projeto trata-se de dados de 2018, preenchi os valores nulos considerando o corte em 31/12/2018, pois isso poderá ser útil em uma manipulação dos dados\n",
    "\n",
    "print(users.dtypes)"
   ]
  },
  {
   "cell_type": "markdown",
   "metadata": {
    "id": "H3gpde3Juj8j"
   },
   "source": [
    "### Enriqueça os dados"
   ]
  },
  {
   "cell_type": "markdown",
   "metadata": {
    "id": "HOZyfII6uj8j"
   },
   "source": [
    "[Inclua fatores adicionais aos dados se você acredita que eles podem ser úteis.]"
   ]
  },
  {
   "cell_type": "code",
   "execution_count": 11,
   "metadata": {
    "id": "4vuUjT2juj8j"
   },
   "outputs": [
    {
     "name": "stdout",
     "output_type": "stream",
     "text": [
      "     user_id  first_name   last_name  age  \\\n",
      "153     1153   Kathaleen    Crawford   30   \n",
      "279     1279        Neal        Duke   27   \n",
      "357     1357         Ria       Beach   61   \n",
      "236     1236       Odell      Juarez   74   \n",
      "210     1210      Shanae    Carrillo   30   \n",
      "42      1042  Clementina  Mclaughlin   40   \n",
      "47      1047         Yuk      French   22   \n",
      "493     1493      Cicely        Wynn   18   \n",
      "311     1311     Cherlyn    Saunders   69   \n",
      "202     1202     Osvaldo       Mayer   36   \n",
      "77      1077        Chau     Webster   23   \n",
      "75      1075      Salena       Bates   35   \n",
      "422     1422  Georgianne        Huff   41   \n",
      "271     1271      Darrin        Rose   48   \n",
      "266     1266       Dorie    Chandler   62   \n",
      "\n",
      "                                                city   reg_date      plan  \\\n",
      "153              Bridgeport-Stamford-Norwalk, CT MSA 2018-06-19      surf   \n",
      "279                              Baton Rouge, LA MSA 2018-02-05  ultimate   \n",
      "357                              Baton Rouge, LA MSA 2018-05-30      surf   \n",
      "236      Minneapolis-St. Paul-Bloomington, MN-WI MSA 2018-04-04  ultimate   \n",
      "210                            Oklahoma City, OK MSA 2018-06-01      surf   \n",
      "42   Philadelphia-Camden-Wilmington, PA-NJ-DE-MD MSA 2018-01-15      surf   \n",
      "47              Indianapolis-Carmel-Anderson, IN MSA 2018-06-16  ultimate   \n",
      "493               Boston-Cambridge-Newton, MA-NH MSA 2018-03-06  ultimate   \n",
      "311                            Memphis, TN-MS-AR MSA 2018-06-27  ultimate   \n",
      "202      Minneapolis-St. Paul-Bloomington, MN-WI MSA 2018-09-30  ultimate   \n",
      "77             Charlotte-Concord-Gastonia, NC-SC MSA 2018-01-14  ultimate   \n",
      "75   Philadelphia-Camden-Wilmington, PA-NJ-DE-MD MSA 2018-08-06      surf   \n",
      "422           Los Angeles-Long Beach-Anaheim, CA MSA 2018-04-03  ultimate   \n",
      "271        New York-Newark-Jersey City, NY-NJ-PA MSA 2018-06-24      surf   \n",
      "266        New York-Newark-Jersey City, NY-NJ-PA MSA 2018-12-13      surf   \n",
      "\n",
      "    churn_date  plan_duration_days  \n",
      "153 2018-12-31                 195  \n",
      "279 2018-12-31                 329  \n",
      "357 2018-12-31                 215  \n",
      "236 2018-12-31                 271  \n",
      "210 2018-12-31                 213  \n",
      "42  2018-12-31                 350  \n",
      "47  2018-12-31                 198  \n",
      "493 2018-12-31                 300  \n",
      "311 2018-12-31                 187  \n",
      "202 2018-12-31                  92  \n",
      "77  2018-12-31                 351  \n",
      "75  2018-12-31                 147  \n",
      "422 2018-12-31                 272  \n",
      "271 2018-12-31                 190  \n",
      "266 2018-12-31                  18  \n"
     ]
    }
   ],
   "source": [
    "# Calculando a duração do período de utilização para cada usuário\n",
    "\n",
    "users['plan_duration_days'] = (users['churn_date'] - users['reg_date']).dt.days.astype('int64')\n",
    "\n",
    "print(users.sample(15))"
   ]
  },
  {
   "cell_type": "markdown",
   "metadata": {
    "id": "f4uSIMuuuj8j"
   },
   "source": [
    "## Chamadas"
   ]
  },
  {
   "cell_type": "code",
   "execution_count": 12,
   "metadata": {
    "id": "hkY01fJnuj8j"
   },
   "outputs": [
    {
     "name": "stdout",
     "output_type": "stream",
     "text": [
      "<class 'pandas.core.frame.DataFrame'>\n",
      "RangeIndex: 137735 entries, 0 to 137734\n",
      "Data columns (total 4 columns):\n",
      " #   Column     Non-Null Count   Dtype  \n",
      "---  ------     --------------   -----  \n",
      " 0   id         137735 non-null  object \n",
      " 1   user_id    137735 non-null  int64  \n",
      " 2   call_date  137735 non-null  object \n",
      " 3   duration   137735 non-null  float64\n",
      "dtypes: float64(1), int64(1), object(2)\n",
      "memory usage: 4.2+ MB\n"
     ]
    }
   ],
   "source": [
    "# Imprima as informações gerais/resumidas sobre o DataFrame das chamadas\n",
    "\n",
    "calls.info()"
   ]
  },
  {
   "cell_type": "code",
   "execution_count": 13,
   "metadata": {
    "id": "wdBwJG5Yuj8k"
   },
   "outputs": [
    {
     "name": "stdout",
     "output_type": "stream",
     "text": [
      "              id  user_id   call_date  duration\n",
      "0        1000_93     1000  2018-12-27      8.52\n",
      "1       1000_145     1000  2018-12-27     13.66\n",
      "2       1000_247     1000  2018-12-27     14.48\n",
      "3       1000_309     1000  2018-12-28      5.76\n",
      "4       1000_380     1000  2018-12-30      4.22\n",
      "...          ...      ...         ...       ...\n",
      "137730  1499_199     1499  2018-11-21      8.72\n",
      "137731  1499_200     1499  2018-10-20     10.89\n",
      "137732  1499_201     1499  2018-09-21      8.12\n",
      "137733  1499_202     1499  2018-10-10      0.37\n",
      "137734  1499_203     1499  2018-12-29     13.86\n",
      "\n",
      "[137735 rows x 4 columns]\n"
     ]
    }
   ],
   "source": [
    "# Imprima uma amostra de dados das chamadas\n",
    "\n",
    "print(calls)"
   ]
  },
  {
   "cell_type": "markdown",
   "metadata": {
    "id": "Y8An85-Tuj8k"
   },
   "source": [
    "<i style=\"color:darkblue;\">O DataFrame `calls` contém informações sobre 137.735 chamadas e possui 4 colunas com diferentes tipos de dados: `int64`, `float64` e `object`. Parecem apropriados para a natureza das informações armazenadas nas colunas, exceto sobre a coluna `call_date` que parece apropriado converter para o tipo de dados `datetime`, pois facilitará a manipulação e análise de datas.</i>"
   ]
  },
  {
   "cell_type": "markdown",
   "metadata": {
    "id": "x5a99U4xuj8k"
   },
   "source": [
    "### Corrija os dados"
   ]
  },
  {
   "cell_type": "code",
   "execution_count": 14,
   "metadata": {
    "id": "lBjdw0Bnuj8l"
   },
   "outputs": [
    {
     "name": "stdout",
     "output_type": "stream",
     "text": [
      "id                   object\n",
      "user_id               int64\n",
      "call_date    datetime64[ns]\n",
      "duration            float64\n",
      "dtype: object\n"
     ]
    }
   ],
   "source": [
    "# Convertendo a coluna 'call_date' para o tipo datetime\n",
    "\n",
    "calls['call_date'] = pd.to_datetime(calls['call_date'], format= '%Y-%m-%d')\n",
    "\n",
    "print(calls.dtypes)"
   ]
  },
  {
   "cell_type": "markdown",
   "metadata": {
    "id": "MFm5xyh4uj8l"
   },
   "source": [
    "### Enriqueça os dados"
   ]
  },
  {
   "cell_type": "code",
   "execution_count": 15,
   "metadata": {
    "id": "nwOKTgfluj8l"
   },
   "outputs": [
    {
     "name": "stdout",
     "output_type": "stream",
     "text": [
      "         id  user_id  call_date  duration  month\n",
      "0   1000_93     1000 2018-12-27      8.52     12\n",
      "1  1000_145     1000 2018-12-27     13.66     12\n",
      "2  1000_247     1000 2018-12-27     14.48     12\n",
      "3  1000_309     1000 2018-12-28      5.76     12\n",
      "4  1000_380     1000 2018-12-30      4.22     12\n"
     ]
    }
   ],
   "source": [
    "# Criando uma nova coluna para extrair o mês da data da chamada\n",
    "calls['month'] = calls['call_date'].dt.month\n",
    "\n",
    "print(calls.head())"
   ]
  },
  {
   "cell_type": "markdown",
   "metadata": {
    "id": "qLz4FkyRuj8l"
   },
   "source": [
    "## Mensagens"
   ]
  },
  {
   "cell_type": "code",
   "execution_count": 16,
   "metadata": {
    "id": "nFA9DFkCuj8l"
   },
   "outputs": [
    {
     "name": "stdout",
     "output_type": "stream",
     "text": [
      "<class 'pandas.core.frame.DataFrame'>\n",
      "RangeIndex: 76051 entries, 0 to 76050\n",
      "Data columns (total 3 columns):\n",
      " #   Column        Non-Null Count  Dtype \n",
      "---  ------        --------------  ----- \n",
      " 0   id            76051 non-null  object\n",
      " 1   user_id       76051 non-null  int64 \n",
      " 2   message_date  76051 non-null  object\n",
      "dtypes: int64(1), object(2)\n",
      "memory usage: 1.7+ MB\n"
     ]
    }
   ],
   "source": [
    "# Imprima as informações gerais/resumidas sobre o DataFrame das mensagens\n",
    "\n",
    "messages.info()"
   ]
  },
  {
   "cell_type": "code",
   "execution_count": 17,
   "metadata": {
    "id": "ysEFBZWxuj8m"
   },
   "outputs": [
    {
     "name": "stdout",
     "output_type": "stream",
     "text": [
      "             id  user_id message_date\n",
      "0      1000_125     1000   2018-12-27\n",
      "1      1000_160     1000   2018-12-31\n",
      "2      1000_223     1000   2018-12-31\n",
      "3      1000_251     1000   2018-12-27\n",
      "4      1000_255     1000   2018-12-26\n",
      "...         ...      ...          ...\n",
      "76046  1497_526     1497   2018-12-24\n",
      "76047  1497_536     1497   2018-12-24\n",
      "76048  1497_547     1497   2018-12-31\n",
      "76049  1497_558     1497   2018-12-24\n",
      "76050  1497_613     1497   2018-12-23\n",
      "\n",
      "[76051 rows x 3 columns]\n"
     ]
    }
   ],
   "source": [
    "# Imprima uma amostra dos dados das mensagens\n",
    "\n",
    "print(messages)"
   ]
  },
  {
   "cell_type": "markdown",
   "metadata": {
    "id": "GUtt1TqCuj8m"
   },
   "source": [
    "<i style=\"color:darkblue;\">O DataFrame `messages` contém informações sobre 76.051 mensagens de texto, com 3 colunas como tipo de dados: `int64` e `object`, cada uma representando diferentes atributos das mensagens. Porém é apropriado converter a coluna `message_date` para o tipo `datetime`. Observa-se que as informações fornecidas incluem o identificador único da mensagem, a data da mensagem e a identificação do usuário que enviou a mensagem.\n",
    "</i>"
   ]
  },
  {
   "cell_type": "markdown",
   "metadata": {
    "id": "tT8N_hc6uj8m"
   },
   "source": [
    "### Corrija os dados"
   ]
  },
  {
   "cell_type": "code",
   "execution_count": 18,
   "metadata": {
    "id": "SpBqbQHCuj8m"
   },
   "outputs": [
    {
     "name": "stdout",
     "output_type": "stream",
     "text": [
      "id                      object\n",
      "user_id                  int64\n",
      "message_date    datetime64[ns]\n",
      "dtype: object\n"
     ]
    }
   ],
   "source": [
    "# Convertendo a coluna 'message_date' para o tipo datetime\n",
    "\n",
    "messages['message_date'] = pd.to_datetime(messages['message_date'], format= '%Y-%m-%d')\n",
    "\n",
    "print(messages.dtypes)"
   ]
  },
  {
   "cell_type": "markdown",
   "metadata": {
    "id": "feV2Njo9uj8n"
   },
   "source": [
    "### Enriqueça os dados"
   ]
  },
  {
   "cell_type": "code",
   "execution_count": 19,
   "metadata": {
    "id": "SkuCXcLJuj8n"
   },
   "outputs": [
    {
     "name": "stdout",
     "output_type": "stream",
     "text": [
      "         id  user_id message_date  month\n",
      "0  1000_125     1000   2018-12-27     12\n",
      "1  1000_160     1000   2018-12-31     12\n",
      "2  1000_223     1000   2018-12-31     12\n",
      "3  1000_251     1000   2018-12-27     12\n",
      "4  1000_255     1000   2018-12-26     12\n"
     ]
    }
   ],
   "source": [
    "# Criando uma nova coluna para extrair o mês da data da mensagem\n",
    "messages['month'] = messages['message_date'].dt.month\n",
    "\n",
    "print(messages.head())"
   ]
  },
  {
   "cell_type": "markdown",
   "metadata": {
    "id": "ZRFaOWzGuj8n"
   },
   "source": [
    "## Internet"
   ]
  },
  {
   "cell_type": "code",
   "execution_count": 20,
   "metadata": {
    "id": "ob3-qv4nuj8n"
   },
   "outputs": [
    {
     "name": "stdout",
     "output_type": "stream",
     "text": [
      "<class 'pandas.core.frame.DataFrame'>\n",
      "RangeIndex: 104825 entries, 0 to 104824\n",
      "Data columns (total 4 columns):\n",
      " #   Column        Non-Null Count   Dtype  \n",
      "---  ------        --------------   -----  \n",
      " 0   id            104825 non-null  object \n",
      " 1   user_id       104825 non-null  int64  \n",
      " 2   session_date  104825 non-null  object \n",
      " 3   mb_used       104825 non-null  float64\n",
      "dtypes: float64(1), int64(1), object(2)\n",
      "memory usage: 3.2+ MB\n"
     ]
    }
   ],
   "source": [
    "# Imprima as informações gerais/resumidas sobre o DataFrame da internet\n",
    "\n",
    "internet.info()"
   ]
  },
  {
   "cell_type": "code",
   "execution_count": 21,
   "metadata": {
    "id": "iIHK4fZsuj8n"
   },
   "outputs": [
    {
     "name": "stdout",
     "output_type": "stream",
     "text": [
      "         id  user_id session_date  mb_used\n",
      "0   1000_13     1000   2018-12-29    89.86\n",
      "1  1000_204     1000   2018-12-31     0.00\n",
      "2  1000_379     1000   2018-12-28   660.40\n",
      "3  1000_413     1000   2018-12-26   270.99\n",
      "4  1000_442     1000   2018-12-27   880.22\n"
     ]
    }
   ],
   "source": [
    "#  Imprima uma amostra de dados para o tráfego da internet\n",
    "\n",
    "print(internet.head())"
   ]
  },
  {
   "cell_type": "markdown",
   "metadata": {
    "id": "6wpo7ugquj8o"
   },
   "source": [
    "<i style=\"color:darkblue;\">O DataFrame `internet` possui 104.825 registros de sessões web e 4 colunas. A coluna `session_date` deve ser convertida para o tipo de dados `datetime` para facilitar a manipulação de datas.</i>"
   ]
  },
  {
   "cell_type": "markdown",
   "metadata": {
    "id": "Tly90YrTuj8o"
   },
   "source": [
    "### Corrija os dados"
   ]
  },
  {
   "cell_type": "code",
   "execution_count": 22,
   "metadata": {
    "id": "GCoX7kbmuj8o"
   },
   "outputs": [
    {
     "name": "stdout",
     "output_type": "stream",
     "text": [
      "id                      object\n",
      "user_id                  int64\n",
      "session_date    datetime64[ns]\n",
      "mb_used                float64\n",
      "dtype: object\n"
     ]
    }
   ],
   "source": [
    "# Convertendo a coluna `session_date` para o tipo datetime\n",
    "internet['session_date'] = pd.to_datetime(internet['session_date'], format= '%Y-%m-%d')\n",
    "\n",
    "print(internet.dtypes)"
   ]
  },
  {
   "cell_type": "markdown",
   "metadata": {
    "id": "DEDbrtFduj8o"
   },
   "source": [
    "### Enriqueça os dados"
   ]
  },
  {
   "cell_type": "code",
   "execution_count": 23,
   "metadata": {
    "id": "f1PoZ3Ukuj8p"
   },
   "outputs": [
    {
     "name": "stdout",
     "output_type": "stream",
     "text": [
      "         id  user_id session_date  mb_used  month\n",
      "0   1000_13     1000   2018-12-29    89.86     12\n",
      "1  1000_204     1000   2018-12-31     0.00     12\n",
      "2  1000_379     1000   2018-12-28   660.40     12\n",
      "3  1000_413     1000   2018-12-26   270.99     12\n",
      "4  1000_442     1000   2018-12-27   880.22     12\n"
     ]
    }
   ],
   "source": [
    "# Criando uma nova coluna para extrair o mês da data dos dados\n",
    "internet['month'] = internet['session_date'].dt.month\n",
    "\n",
    "print(internet.head())"
   ]
  },
  {
   "cell_type": "markdown",
   "metadata": {
    "id": "bnOX4ARJuj8p"
   },
   "source": [
    "## Estude as condições dos planos"
   ]
  },
  {
   "cell_type": "markdown",
   "metadata": {
    "id": "vMu9_L8quj8p"
   },
   "source": [
    "[É fundamental entender como os planos funcionam e como são as cobranças dos usuários com base na assinatura. Sugerimos imprimir as informações do plano para visualizar novamente as condições.]"
   ]
  },
  {
   "cell_type": "code",
   "execution_count": 24,
   "metadata": {
    "id": "vMXVndWEuj8p"
   },
   "outputs": [
    {
     "data": {
      "text/html": [
       "<div>\n",
       "<style scoped>\n",
       "    .dataframe tbody tr th:only-of-type {\n",
       "        vertical-align: middle;\n",
       "    }\n",
       "\n",
       "    .dataframe tbody tr th {\n",
       "        vertical-align: top;\n",
       "    }\n",
       "\n",
       "    .dataframe thead th {\n",
       "        text-align: right;\n",
       "    }\n",
       "</style>\n",
       "<table border=\"1\" class=\"dataframe\">\n",
       "  <thead>\n",
       "    <tr style=\"text-align: right;\">\n",
       "      <th></th>\n",
       "      <th>messages_included</th>\n",
       "      <th>mb_per_month_included</th>\n",
       "      <th>minutes_included</th>\n",
       "      <th>usd_monthly_pay</th>\n",
       "      <th>usd_per_gb</th>\n",
       "      <th>usd_per_message</th>\n",
       "      <th>usd_per_minute</th>\n",
       "      <th>plan_name</th>\n",
       "    </tr>\n",
       "  </thead>\n",
       "  <tbody>\n",
       "    <tr>\n",
       "      <th>0</th>\n",
       "      <td>50</td>\n",
       "      <td>15360</td>\n",
       "      <td>500</td>\n",
       "      <td>20</td>\n",
       "      <td>10</td>\n",
       "      <td>0.03</td>\n",
       "      <td>0.03</td>\n",
       "      <td>surf</td>\n",
       "    </tr>\n",
       "    <tr>\n",
       "      <th>1</th>\n",
       "      <td>1000</td>\n",
       "      <td>30720</td>\n",
       "      <td>3000</td>\n",
       "      <td>70</td>\n",
       "      <td>7</td>\n",
       "      <td>0.01</td>\n",
       "      <td>0.01</td>\n",
       "      <td>ultimate</td>\n",
       "    </tr>\n",
       "  </tbody>\n",
       "</table>\n",
       "</div>"
      ],
      "text/plain": [
       "   messages_included  mb_per_month_included  minutes_included  \\\n",
       "0                 50                  15360               500   \n",
       "1               1000                  30720              3000   \n",
       "\n",
       "   usd_monthly_pay  usd_per_gb  usd_per_message  usd_per_minute plan_name  \n",
       "0               20          10             0.03            0.03      surf  \n",
       "1               70           7             0.01            0.01  ultimate  "
      ]
     },
     "execution_count": 24,
     "metadata": {},
     "output_type": "execute_result"
    }
   ],
   "source": [
    "# Imprima as condições do plano e certifique-se de que elas fazem sentido para você\n",
    "\n",
    "plans"
   ]
  },
  {
   "cell_type": "markdown",
   "metadata": {
    "id": "1v1EshDmuj8q"
   },
   "source": [
    "## Agregue os dados por usuário\n",
    "\n",
    "[Agora, como os dados estão limpos, agregue os dados por usuário por período para ter apenas um registro por usuário por período. Isso vai facilitar muito a análise posterior.]"
   ]
  },
  {
   "cell_type": "code",
   "execution_count": 25,
   "metadata": {
    "id": "4hmb2pSPuj8q"
   },
   "outputs": [
    {
     "name": "stdout",
     "output_type": "stream",
     "text": [
      "      user_id  month  calls_made\n",
      "0        1000     12          16\n",
      "1        1001      8          27\n",
      "2        1001      9          49\n",
      "3        1001     10          65\n",
      "4        1001     11          64\n",
      "...       ...    ...         ...\n",
      "2253     1498     12          39\n",
      "2254     1499      9          41\n",
      "2255     1499     10          53\n",
      "2256     1499     11          45\n",
      "2257     1499     12          65\n",
      "\n",
      "[2258 rows x 3 columns]\n"
     ]
    }
   ],
   "source": [
    "# Calcule o número de chamadas feitas por cada usuário por mês. Salve o resultado.\n",
    "\n",
    "# Agrupando os dados de chamadas por usuário e por mês, e contando o número de chamadas em cada grupo\n",
    "calls_per_user_per_month = calls.groupby(['user_id', 'month'])['id'].count().reset_index(name='calls_made')\n",
    "\n",
    "print(calls_per_user_per_month) # Imprimir o resultado"
   ]
  },
  {
   "cell_type": "code",
   "execution_count": 26,
   "metadata": {
    "id": "yHgBWCJJuj8q"
   },
   "outputs": [
    {
     "name": "stdout",
     "output_type": "stream",
     "text": [
      "      user_id  month  minutes_used\n",
      "0        1000     12        116.83\n",
      "1        1001      8        171.14\n",
      "2        1001      9        297.69\n",
      "3        1001     10        374.11\n",
      "4        1001     11        404.59\n",
      "...       ...    ...           ...\n",
      "2253     1498     12        324.77\n",
      "2254     1499      9        330.37\n",
      "2255     1499     10        363.28\n",
      "2256     1499     11        288.56\n",
      "2257     1499     12        468.10\n",
      "\n",
      "[2258 rows x 3 columns]\n"
     ]
    }
   ],
   "source": [
    "# Calcule a quantidade de minutos gastos por cada usuário por mês. Salve o resultado.\n",
    "\n",
    "# Agrupando os dados de chamadas por usuário e por mês, e somando a duração das chamadas em cada grupo\n",
    "minutes_per_user_per_month = calls.groupby(['user_id', 'month'])['duration'].sum().reset_index(name='minutes_used')\n",
    "\n",
    "print(minutes_per_user_per_month)"
   ]
  },
  {
   "cell_type": "code",
   "execution_count": 27,
   "metadata": {
    "id": "MaM_cPxauj8q"
   },
   "outputs": [
    {
     "name": "stdout",
     "output_type": "stream",
     "text": [
      "      user_id  month  messages_sent\n",
      "0        1000     12             11\n",
      "1        1001      8             30\n",
      "2        1001      9             44\n",
      "3        1001     10             53\n",
      "4        1001     11             36\n",
      "...       ...    ...            ...\n",
      "1801     1496      9             21\n",
      "1802     1496     10             18\n",
      "1803     1496     11             13\n",
      "1804     1496     12             11\n",
      "1805     1497     12             50\n",
      "\n",
      "[1806 rows x 3 columns]\n"
     ]
    }
   ],
   "source": [
    "# Calcule o número de mensagens enviadas por cada usuário por mês. Salve o resultado.\n",
    "\n",
    "# Agrupando os dados de mensagens por usuário e por mês, e contando o número de mensagens em cada grupo\n",
    "messages_per_user_per_month = messages.groupby(['user_id', 'month'])['id'].count().reset_index(name='messages_sent')\n",
    "\n",
    "print(messages_per_user_per_month) # Imprimir o resultado\n",
    "\n"
   ]
  },
  {
   "cell_type": "code",
   "execution_count": 28,
   "metadata": {
    "id": "WsCEZJ_xuj8q"
   },
   "outputs": [
    {
     "name": "stdout",
     "output_type": "stream",
     "text": [
      "      user_id  month   mb_used\n",
      "0        1000     12   1901.47\n",
      "1        1001      8   6919.15\n",
      "2        1001      9  13314.82\n",
      "3        1001     10  22330.49\n",
      "4        1001     11  18504.30\n",
      "...       ...    ...       ...\n",
      "2272     1498     12  23137.69\n",
      "2273     1499      9  12984.76\n",
      "2274     1499     10  19492.43\n",
      "2275     1499     11  16813.83\n",
      "2276     1499     12  22059.21\n",
      "\n",
      "[2277 rows x 3 columns]\n"
     ]
    }
   ],
   "source": [
    "# Calcule o volume de tráfego de internet usado por cada usuário por mês. Salve o resultado.\n",
    "\n",
    "# Agrupando os dados de internet por usuário e por mês, e somando o volume de dados em cada grupo\n",
    "internet_per_user_per_month = internet.groupby(['user_id', 'month'])['mb_used'].sum().reset_index() \n",
    "\n",
    "print(internet_per_user_per_month) # Imprimir o resultado"
   ]
  },
  {
   "cell_type": "markdown",
   "metadata": {
    "id": "6nBsD4hduj8q"
   },
   "source": [
    "[Coloque os dados agregados em um DataFrame para que um registro nele represente o que um usuário unívoco consumiu em um determinado mês.]"
   ]
  },
  {
   "cell_type": "code",
   "execution_count": 29,
   "metadata": {
    "id": "BYDTkxOauj8r"
   },
   "outputs": [
    {
     "name": "stdout",
     "output_type": "stream",
     "text": [
      "      user_id  month  calls_made  minutes_used  messages_sent   mb_used\n",
      "0        1000     12        16.0        116.83           11.0   1901.47\n",
      "1        1001      8        27.0        171.14           30.0   6919.15\n",
      "2        1001      9        49.0        297.69           44.0  13314.82\n",
      "3        1001     10        65.0        374.11           53.0  22330.49\n",
      "4        1001     11        64.0        404.59           36.0  18504.30\n",
      "...       ...    ...         ...           ...            ...       ...\n",
      "2288     1349     12         0.0          0.00           61.0  13039.91\n",
      "2289     1361      5         0.0          0.00            2.0   1519.69\n",
      "2290     1482     10         0.0          0.00            2.0      0.00\n",
      "2291     1108     12         0.0          0.00            0.0    233.17\n",
      "2292     1311      6         0.0          0.00            0.0   1498.83\n",
      "\n",
      "[2293 rows x 6 columns]\n"
     ]
    }
   ],
   "source": [
    "# Junte os dados de chamadas, minutos, mensagens e internet com base em user_id e month\n",
    "\n",
    "# Combinando os DataFrames de chamadas, minutos, mensagens e internet por usuário e por mês\n",
    "usage_per_user = calls_per_user_per_month.merge(minutes_per_user_per_month, on=['user_id', 'month'], how='outer')\n",
    "usage_per_user = usage_per_user.merge(messages_per_user_per_month, on=['user_id', 'month'], how='outer')\n",
    "usage_per_user = usage_per_user.merge(internet_per_user_per_month, on=['user_id', 'month'], how='outer')\n",
    "\n",
    "usage_per_user.fillna(0, inplace=True) # Preenchendo valores nulos com zero para indicar que o usuário não realizou nenhuma chamada, não usou minutos, não enviou mensagens ou não utilizou a internet durante esse mês\n",
    "\n",
    "print(usage_per_user)"
   ]
  },
  {
   "cell_type": "code",
   "execution_count": 30,
   "metadata": {
    "id": "SW-sgLaHuj8r"
   },
   "outputs": [
    {
     "name": "stdout",
     "output_type": "stream",
     "text": [
      "      user_id  month  calls_made  minutes_used  messages_sent   mb_used  \\\n",
      "0        1000     12        16.0        116.83           11.0   1901.47   \n",
      "1        1001      8        27.0        171.14           30.0   6919.15   \n",
      "2        1001      9        49.0        297.69           44.0  13314.82   \n",
      "3        1001     10        65.0        374.11           53.0  22330.49   \n",
      "4        1001     11        64.0        404.59           36.0  18504.30   \n",
      "...       ...    ...         ...           ...            ...       ...   \n",
      "2288     1349     12         0.0          0.00           61.0  13039.91   \n",
      "2289     1361      5         0.0          0.00            2.0   1519.69   \n",
      "2290     1482     10         0.0          0.00            2.0      0.00   \n",
      "2291     1108     12         0.0          0.00            0.0    233.17   \n",
      "2292     1311      6         0.0          0.00            0.0   1498.83   \n",
      "\n",
      "          plan  \n",
      "0     ultimate  \n",
      "1         surf  \n",
      "2         surf  \n",
      "3         surf  \n",
      "4         surf  \n",
      "...        ...  \n",
      "2288      surf  \n",
      "2289      surf  \n",
      "2290  ultimate  \n",
      "2291  ultimate  \n",
      "2292  ultimate  \n",
      "\n",
      "[2293 rows x 7 columns]\n"
     ]
    }
   ],
   "source": [
    "# Adicione as informações sobre o plano\n",
    "\n",
    "usage_per_user = usage_per_user.merge(users[['user_id', 'plan']], on='user_id', how='left') # Mesclar os dados de uso por usuário com as informações do plano\n",
    "\n",
    "print(usage_per_user) # Imprimir o resultado"
   ]
  },
  {
   "cell_type": "markdown",
   "metadata": {
    "id": "mU8dKHTQuj8r"
   },
   "source": [
    "<i style=\"color:darkblue;\">O DataFrame `calls` contém informações sobre 137.735 chamadas e possui 4 colunas com diferentes tipos de dados: `int64`, `float64` e `object`. Parecem apropriados para a natureza das informações armazenadas nas colunas, exceto sobre a coluna `call_date` que parece apropriado converter para o tipo de dados `datetime`, pois facilitará a manipulação e análise de datas.</i>"
   ]
  },
  {
   "cell_type": "code",
   "execution_count": 33,
   "metadata": {
    "id": "JiPHXbQAuj8r"
   },
   "outputs": [
    {
     "name": "stdout",
     "output_type": "stream",
     "text": [
      "      user_id  month  calls_made  minutes_used  messages_sent   mb_used  \\\n",
      "0        1000     12        16.0        116.83           11.0   1901.47   \n",
      "1        1001      8        27.0        171.14           30.0   6919.15   \n",
      "2        1001      9        49.0        297.69           44.0  13314.82   \n",
      "3        1001     10        65.0        374.11           53.0  22330.49   \n",
      "4        1001     11        64.0        404.59           36.0  18504.30   \n",
      "...       ...    ...         ...           ...            ...       ...   \n",
      "2288     1349     12         0.0          0.00           61.0  13039.91   \n",
      "2289     1361      5         0.0          0.00            2.0   1519.69   \n",
      "2290     1482     10         0.0          0.00            2.0      0.00   \n",
      "2291     1108     12         0.0          0.00            0.0    233.17   \n",
      "2292     1311      6         0.0          0.00            0.0   1498.83   \n",
      "\n",
      "          plan  income_month  \n",
      "0     ultimate         70.00  \n",
      "1         surf         20.00  \n",
      "2         surf         20.00  \n",
      "3         surf         88.16  \n",
      "4         surf         50.71  \n",
      "...        ...           ...  \n",
      "2288      surf         20.33  \n",
      "2289      surf         20.00  \n",
      "2290  ultimate         70.00  \n",
      "2291  ultimate         70.00  \n",
      "2292  ultimate         70.00  \n",
      "\n",
      "[2293 rows x 8 columns]\n"
     ]
    }
   ],
   "source": [
    "# Calcule a receita mensal para cada usuário\n",
    "\n",
    "# Calcule a receita mensal para cada usuário\n",
    "\n",
    "def income_calc(row): # Definição da função `income_calc`, que recebe os dados de entrada dos usuários e utiliza esses dados para calcular a receita mensal para cada usuário com base nos planos contratados e no uso adicional de minutos, mensagens e internet\n",
    "   # Obtendo as informações do plano do usuário\n",
    "    deal = row['plan']\n",
    "    deal_info = plans[plans['plan_name'] == deal].iloc[0]\n",
    "\n",
    "    # Extraindo os limites gratuitos do pacote do plano\n",
    "    minutes_inc = deal_info['minutes_included']\n",
    "    messages_inc = deal_info['messages_included']\n",
    "    mb_inc = deal_info['mb_per_month_included']\n",
    "\n",
    "    # Obtendo o preço do plano mensal\n",
    "    usd_monthly = deal_info['usd_monthly_pay']\n",
    "\n",
    "    # Calcular o uso adicional além dos limites gratuitos\n",
    "    minutes_exceeded = max(0, row['minutes_used'] - minutes_inc)\n",
    "    messages_exceeded = max(0, row['messages_sent'] - messages_inc)\n",
    "    mb_exceeded = max(0, row['mb_used'] - mb_inc)\n",
    "\n",
    "    # Calcular o valor do uso adicional com base nos preços por minuto, mensagem e GB\n",
    "    minute_costs = minutes_exceeded * deal_info['usd_per_minute']\n",
    "    messages_costs = messages_exceeded * deal_info['usd_per_message']\n",
    "    internet_costs = (mb_exceeded / 1024) * deal_info['usd_per_gb']  # Convertendo MB para GB devido ao preço do excedente ser cobrado por GB\n",
    "\n",
    "    # Calcular a receita mensal total\n",
    "    income_month = usd_monthly + minute_costs + messages_costs + internet_costs\n",
    "\n",
    "    return income_month\n",
    "\n",
    "\n",
    "usage_per_user['income_month'] = usage_per_user.apply(income_calc, axis=1).round(2) # Calcular a receita mensal para cada usuário e usei o método 'round()' para fixar o número de casas decimais\n",
    "\n",
    "print(usage_per_user)"
   ]
  },
  {
   "cell_type": "markdown",
   "metadata": {
    "id": "0HFWXKTQuj8r"
   },
   "source": [
    "## Estude o comportamento do usuário"
   ]
  },
  {
   "cell_type": "markdown",
   "metadata": {
    "id": "umaMfSLxuj8s"
   },
   "source": [
    "### Chamadas"
   ]
  },
  {
   "cell_type": "code",
   "execution_count": 38,
   "metadata": {
    "id": "0236-tJnuj8t"
   },
   "outputs": [
    {
     "data": {
      "text/plain": [
       "<Figure size 720x432 with 0 Axes>"
      ]
     },
     "metadata": {},
     "output_type": "display_data"
    },
    {
     "data": {
      "image/png": "[encoded data removed]",
      "text/plain": [
       "<Figure size 432x288 with 1 Axes>"
      ]
     },
     "metadata": {
      "needs_background": "light"
     },
     "output_type": "display_data"
    }
   ],
   "source": [
    "# Compare a duração média das chamadas de cada plano para cada mês distinto. Crie um gráfico de barras para visualizá-lo.\n",
    "\n",
    "# Calculando a duração média das chamadas por plano e por mês\n",
    "avg_call_duration = usage_per_user.pivot_table(index='month', columns='plan', values='minutes_used', aggfunc='mean')\n",
    "\n",
    "# Criando o gráfico de barras\n",
    "plt.figure(figsize=(10, 6))\n",
    "avg_call_duration.plot(kind='bar', width=0.8)\n",
    "plt.title('Duração Média das Chamadas por Plano e por Mês')\n",
    "plt.xlabel('Mês')\n",
    "plt.ylabel('Duração Média das Chamadas (minutos)')\n",
    "plt.legend(title='Plano')\n",
    "plt.grid(True)\n",
    "plt.xticks(rotation=1)\n",
    "\n",
    "plt.show()"
   ]
  },
  {
   "cell_type": "code",
   "execution_count": 39,
   "metadata": {
    "id": "9sCQ1lP8uj8u"
   },
   "outputs": [
    {
     "data": {
      "image/png": "[encoded data removed]",
      "text/plain": [
       "<Figure size 720x432 with 1 Axes>"
      ]
     },
     "metadata": {
      "needs_background": "light"
     },
     "output_type": "display_data"
    }
   ],
   "source": [
    "# Compare o número de minutos de que os usuários de cada plano necessitam a cada mês. Construa um histograma.\n",
    "\n",
    "# Filtrar os dados para cada plano\n",
    "surf_calls_duration = usage_per_user[usage_per_user['plan'] == 'surf']['minutes_used']\n",
    "ultimate_calls_duration = usage_per_user[usage_per_user['plan'] == 'ultimate']['minutes_used']\n",
    "\n",
    "# Criando histograma\n",
    "plt.figure(figsize=(10, 6))\n",
    "plt.hist(surf_calls_duration, bins=30, alpha=0.5, label='Surf', color='blue') # Plotar o histograma para o plano Surf\n",
    "plt.hist(ultimate_calls_duration, bins=30, alpha=0.5, label='Ultimate', color='orange') # Plotar o histograma para o plano Ultimate\n",
    "plt.title('Frequência de Duração das Chamadas por Plano')\n",
    "plt.xlabel('Duração das Chamadas (minutos)')\n",
    "plt.ylabel('Frequência')\n",
    "plt.legend()\n",
    "\n",
    "plt.show()"
   ]
  },
  {
   "cell_type": "code",
   "execution_count": 40,
   "metadata": {
    "id": "cIdodPExuj8u"
   },
   "outputs": [
    {
     "name": "stdout",
     "output_type": "stream",
     "text": [
      "Média da duração das chamadas:\n",
      "Plano Surf: 404.76239033693577\n",
      "Plano Ultimate: 406.19308333333333\n",
      "\n",
      "Variância da duração das chamadas:\n",
      "Plano Surf: 49135.10489072031\n",
      "Plano Ultimate: 51640.97140216272\n"
     ]
    }
   ],
   "source": [
    "# Calcule a média e a variação da duração mensal das chamadas\n",
    "\n",
    "# Calculando a média da duração das chamadas por plano\n",
    "surf_mean_duration = surf_calls_duration.mean()\n",
    "ultimate_mean_duration = ultimate_calls_duration.mean()\n",
    "\n",
    "# Calculando a variância da duração das chamadas por plano\n",
    "surf_var_duration = surf_calls_duration.var()\n",
    "ultimate_var_duration = ultimate_calls_duration.var()\n",
    "\n",
    "print(\"Média da duração das chamadas:\")\n",
    "print(\"Plano Surf:\", surf_mean_duration)\n",
    "print(\"Plano Ultimate:\", ultimate_mean_duration)\n",
    "\n",
    "print(\"\\nVariância da duração das chamadas:\")\n",
    "print(\"Plano Surf:\", surf_var_duration)\n",
    "print(\"Plano Ultimate:\", ultimate_var_duration)"
   ]
  },
  {
   "cell_type": "code",
   "execution_count": 41,
   "metadata": {
    "id": "DW7vTypxuj8u"
   },
   "outputs": [
    {
     "data": {
      "image/png": "[encoded data removed]",
      "text/plain": [
       "<Figure size 864x576 with 1 Axes>"
      ]
     },
     "metadata": {
      "needs_background": "light"
     },
     "output_type": "display_data"
    }
   ],
   "source": [
    "# Faça um diagrama de caixa para visualizar a distribuição da duração mensal das chamadas\n",
    "\n",
    "# Plotar o boxplot da duração das chamadas por plano\n",
    "plt.figure(figsize=(12, 8))\n",
    "sns.boxplot(x='month', y='minutes_used', hue='plan', data=usage_per_user)\n",
    "plt.title('Distribuição Mensal da Duração das Chamadas por Plano')\n",
    "plt.xlabel('Mês')\n",
    "plt.ylabel('Duração das Chamadas (minutos)')\n",
    "plt.legend(title='Plano')\n",
    "plt.xticks(rotation=1)\n",
    "plt.show()"
   ]
  },
  {
   "cell_type": "markdown",
   "metadata": {
    "id": "Uyt3rWn7uj8u"
   },
   "source": [
    "<i style=\"color:darkblue;\">Observa-se que a média da duração das chamadas para o plano Surf é de aproximadamente 404.76 minutos por mês, enquanto para o plano Ultimate é de aproximadamente 406.19 minutos por mês. Isso sugere que, em média, os usuários do plano Ultimate tendem a fazer chamadas ligeiramente mais longas. Quanto a variância da duração das chamadas, indica o quão dispersos estão os dados em torno da média, a variância é relativamente alta, indicando uma ampla dispersão nos dados em ambos os grupos. Não há uma diferença clara entre os dois planos em termos de uso mensal de minutos. Em termos de duração das chamadas, não há uma diferença substancial entre os usuários dos planos Surf e Ultimate. Ambos os grupos de usuários exibem comportamentos semelhantes em relação ao tempo gasto em chamadas mensais.</i>"
   ]
  },
  {
   "cell_type": "markdown",
   "metadata": {
    "id": "2hWSPtrnuj8v"
   },
   "source": [
    "### Mensagens"
   ]
  },
  {
   "cell_type": "code",
   "execution_count": 42,
   "metadata": {
    "id": "9kPlAhOJuj8v"
   },
   "outputs": [
    {
     "data": {
      "image/png": "[encoded data removed]",
      "text/plain": [
       "<Figure size 720x432 with 1 Axes>"
      ]
     },
     "metadata": {
      "needs_background": "light"
     },
     "output_type": "display_data"
    }
   ],
   "source": [
    "# Compare o número de mensagens que os usuários de cada plano tendem a enviar a cada mês\n",
    "\n",
    "# Mesclar os dados de mensagens com os dados de usuários para obter os planos de cada usuário\n",
    "messages_with_plan = messages_per_user_per_month.merge(users[['user_id', 'plan']], on='user_id')\n",
    "\n",
    "# Agrupar os dados por plano e mês e calcular a média e a variância\n",
    "messages_grouped = messages_with_plan.groupby(['plan', 'month']).agg({'messages_sent': ['mean', 'var']}).reset_index()\n",
    "\n",
    "# Criando o gráfico de barras\n",
    "plt.figure(figsize=(10, 6))\n",
    "sns.barplot(data=messages_grouped, x='month', y=('messages_sent', 'mean'), hue='plan')\n",
    "plt.title('Número médio de mensagens enviadas por mês para cada plano')\n",
    "plt.xlabel('Mês')\n",
    "plt.ylabel('Número médio de mensagens')\n",
    "plt.legend(title='Plano')\n",
    "\n",
    "plt.show()"
   ]
  },
  {
   "cell_type": "markdown",
   "metadata": {
    "id": "v6QELMtcuj8v"
   },
   "source": [
    "<i style=\"color:darkblue;\">Ambos os planos apresentam um aumento no uso de mensagens ao longo do ano. No entanto, o plano Surf parece ter uma média de mensagens um pouco maior em comparação com o plano Ultimate. Isso sugere que os usuários do plano Surf podem estar mais engajados em enviar mensagens em comparação com os usuários do plano Ultimate.</i>"
   ]
  },
  {
   "cell_type": "markdown",
   "metadata": {
    "id": "nHUCwAnauj8w"
   },
   "source": [
    "### Internet"
   ]
  },
  {
   "cell_type": "code",
   "execution_count": 43,
   "metadata": {
    "id": "EEm27RaRuj8w"
   },
   "outputs": [
    {
     "data": {
      "image/png": "[encoded data removed]",
      "text/plain": [
       "<Figure size 720x432 with 1 Axes>"
      ]
     },
     "metadata": {
      "needs_background": "light"
     },
     "output_type": "display_data"
    }
   ],
   "source": [
    "# Compare a quantidade de tráfego de internet consumido pelos usuários por plano\n",
    "\n",
    "# Mesclar os dados de uso da internet com os dados de usuários para obter os planos de cada usuário\n",
    "internet_with_plan = internet_per_user_per_month.merge(users[['user_id', 'plan']], on='user_id')\n",
    "\n",
    "# Calcular o tráfego total de internet por plano e mês\n",
    "internet_traffic = internet_with_plan.groupby(['plan', 'month'])['mb_used'].sum().reset_index()\n",
    "\n",
    "# Criando o gráfico de barras\n",
    "plt.figure(figsize=(10, 6))\n",
    "sns.barplot(data=internet_traffic, x='month', y='mb_used', hue='plan')\n",
    "plt.title('Tráfego total de internet por mês para cada plano')\n",
    "plt.xlabel('Mês')\n",
    "plt.ylabel('Tráfego total de internet (MB)')\n",
    "plt.legend(title='Plano')\n",
    "\n",
    "plt.show()"
   ]
  },
  {
   "cell_type": "markdown",
   "metadata": {
    "id": "GsHkFpGmuj8w"
   },
   "source": [
    "<i style=\"color:darkblue;\">Embora haja variações mensais no consumo de tráfego de internet, ambas as categorias de plano (Surf e Ultimate) mostram uma tendência geral de aumento ao longo do ano. Não parece haver diferenças significativas no comportamento de consumo de internet entre os dois planos. Ambos os tipos de usuários tendem a aumentar seu consumo de internet com o tempo, possivelmente devido a uma variedade de fatores, como aumento da dependência da internet para comunicação, entretenimento e trabalho.</i>"
   ]
  },
  {
   "cell_type": "markdown",
   "metadata": {
    "id": "g23qXaYNuj8x"
   },
   "source": [
    "## Receita"
   ]
  },
  {
   "cell_type": "code",
   "execution_count": 44,
   "metadata": {
    "id": "CGuBwYRyuj8y"
   },
   "outputs": [
    {
     "name": "stdout",
     "output_type": "stream",
     "text": [
      "Estatísticas de receita para o plano Surf:\n",
      "count    1573.000000\n",
      "mean       57.293757\n",
      "std        53.735931\n",
      "min        20.000000\n",
      "25%        20.000000\n",
      "50%        36.680000\n",
      "75%        76.850000\n",
      "max       581.330000\n",
      "Name: income_month, dtype: float64\n",
      "\n",
      "Estatísticas de receita para o plano Ultimate:\n",
      "count    720.000000\n",
      "mean      72.116069\n",
      "std       10.768846\n",
      "min       70.000000\n",
      "25%       70.000000\n",
      "50%       70.000000\n",
      "75%       70.000000\n",
      "max      178.520000\n",
      "Name: income_month, dtype: float64\n"
     ]
    }
   ],
   "source": [
    "# Separar as receitas por plano\n",
    "surf_income = usage_per_user[usage_per_user['plan'] == 'surf']['income_month']\n",
    "ultimate_income = usage_per_user[usage_per_user['plan'] == 'ultimate']['income_month']\n",
    "\n",
    "# Descrever estatisticamente as receitas para o plano Surf\n",
    "print(\"Estatísticas de receita para o plano Surf:\")\n",
    "print(surf_income.describe())\n",
    "\n",
    "# Descrever estatisticamente as receitas para o plano Ultimate\n",
    "print(\"\\nEstatísticas de receita para o plano Ultimate:\")\n",
    "print(ultimate_income.describe())"
   ]
  },
  {
   "cell_type": "code",
   "execution_count": 45,
   "metadata": {
    "id": "qJSyfvUguj8y"
   },
   "outputs": [
    {
     "data": {
      "image/png": "[encoded data removed]",
      "text/plain": [
       "<Figure size 720x432 with 1 Axes>"
      ]
     },
     "metadata": {
      "needs_background": "light"
     },
     "output_type": "display_data"
    }
   ],
   "source": [
    "# Dados das receitas por plano\n",
    "surf_revenue = usage_per_user[usage_per_user['plan'] == 'surf']['income_month']\n",
    "ultimate_revenue = usage_per_user[usage_per_user['plan'] == 'ultimate']['income_month']\n",
    "\n",
    "# Criar o diagrama de caixa\n",
    "plt.figure(figsize=(10, 6))\n",
    "plt.boxplot([surf_revenue, ultimate_revenue], labels=['Surf', 'Ultimate'])\n",
    "plt.title('Distribuição da Receita Mensal por Plano')\n",
    "plt.xlabel('Plano')\n",
    "plt.ylabel('Receita Mensal ($)')\n",
    "plt.grid(True)\n",
    "plt.show()"
   ]
  },
  {
   "cell_type": "markdown",
   "metadata": {
    "id": "KUSxMW71uj8z"
   },
   "source": [
    "<i style=\"color:darkblue;\">Para cada plano, extraímos o seguinte:\n",
    "\n",
    "**Plano Surf:**\n",
    "* Contagem (count): 1.573 assinantes\n",
    "* Receita média (mean): $57.29\n",
    "* Desvio padrão (std): $53.74\n",
    "* Receita mínima (min): $20.00\n",
    "* Primeiro quartil (25%): $20.00\n",
    "* Mediana (50%): $36.68\n",
    "* Terceiro quartil (75%): $76.85\n",
    "* Receita máxima (max): $581.33\n",
    "\n",
    "**Plano Ultimate:**\n",
    "* Contagem (count): 720 assinantes\n",
    "* Receita média (mean): $72.12\n",
    "* Desvio padrão (std): $10.77\n",
    "* Receita mínima (min): $70.00\n",
    "* Primeiro quartil (25%): $70.00\n",
    "* Mediana (50%): $70.00\n",
    "* Terceiro quartil (75%): $70.00\n",
    "* Receita máxima (max): $178.52\n",
    "\n",
    "O plano Ultimate tem uma média de receita mensal ligeiramente maior do que o plano Surf, o que significa que os assinantes do plano Ultimate tendem a gerar mais receita para a Megaline. A variabilidade da receita mensal é maior no plano Surf em comparação com o plano Ultimate e isso pode ser atribuído à maior flexibilidade de uso dentro do plano Surf, resultando em uma variedade mais ampla de comportamentos de consumo. O plano Surf há uma proporção maior de usuários que geram receita substancialmente maior do que a média devido ao uso adicional de minutos, mensagens e internet. Observa-se que a maioria das receitas do plano Ultimate está agrupada em torno de um valor fixo mensal, enquanto no plano Surf há uma maior variação de receitas devido ao uso adicional, o que significa que os usuários do plano Ultimate tendem a aderir mais aos limites do pacote e, portanto, geram uma receita mais estável para a Megaline. Embora o plano Ultimate tenha uma média de receita mensal ligeiramente maior, o plano Surf apresenta uma maior variabilidade de receita, com uma proporção significativa de usuários gerando receita adicional devido ao uso excedente de serviços.</i>"
   ]
  },
  {
   "cell_type": "markdown",
   "metadata": {
    "id": "xJ6Mu-KAuj8z"
   },
   "source": [
    "## Teste hipóteses estatísticas"
   ]
  },
  {
   "cell_type": "code",
   "execution_count": 46,
   "metadata": {
    "id": "LyGrPhpUuj80"
   },
   "outputs": [
    {
     "name": "stdout",
     "output_type": "stream",
     "text": [
      "T-statistic: -10.489449407570955, P-value: 4.8817076447392475e-25\n",
      "Rejeitamos a hipótese nula: as receitas médias são diferentes.\n"
     ]
    }
   ],
   "source": [
    "# Teste as hipóteses\n",
    "\n",
    "# Criando séries de dados para a receita mensal dos usuários dos planos \"Surf\" e \"Ultimate\"\n",
    "surf_revenue = usage_per_user[usage_per_user['plan'] == 'surf']['income_month']\n",
    "ultimate_revenue = usage_per_user[usage_per_user['plan'] == 'ultimate']['income_month']\n",
    "\n",
    "# Realizando o teste t independente usando o alias correto\n",
    "t_st, p_value = st.ttest_ind(surf_revenue, ultimate_revenue, equal_var=False)\n",
    "\n",
    "# Imprimir o valor-p\n",
    "print(f'T-statistic: {t_st}, P-value: {p_value}')\n",
    "\n",
    "# Decisão sobre a hipótese nula\n",
    "alpha = 0.05\n",
    "if p_value < alpha:\n",
    "    print(\"Rejeitamos a hipótese nula: as receitas médias são diferentes.\")\n",
    "else:\n",
    "    print(\"Não rejeitamos a hipótese nula: não há diferença significativa nas receitas médias.\")"
   ]
  },
  {
   "cell_type": "markdown",
   "metadata": {
    "id": "kMHim5__uj80"
   },
   "source": [
    "<i style=\"color:darkblue;\">As hipóteses nula e alternativa são formuladas da seguinte maneira:\n",
    "\n",
    "1. **Hipótese Nula (H0):** Não há diferença significativa nas receitas médias entre os usuários dos planos Ultimate e Surf.\n",
    "2. **Hipótese Alternativa (H1):** Há diferença significativa nas receitas médias entre os usuários dos planos Ultimate e Surf.\n",
    "    \n",
    "O teste estatístico utilizado foi o teste t independente, pois estamos comparando as médias de duas amostras independentes (receitas dos usuários dos planos Ultimate e Surf). Optamos por este teste porque estamos interessados em determinar se há uma diferença significativa entre as médias das duas amostras. Além disso, escolhemos um nível de significância (alfa) de 0.05 para tomar a decisão sobre a hipótese nula.\n",
    "\n",
    "Se o valor-p resultante do teste for menor que o valor alfa (0.05), rejeitamos a hipótese nula e concluímos que há uma diferença significativa nas receitas médias entre os dois grupos de usuários. Caso contrário, se o valor-p for maior que alfa, não rejeitamos a hipótese nula e concluímos que não há evidência suficiente para afirmar que as receitas médias são diferentes entre os usuários dos planos Ultimate e Surf.</i>"
   ]
  },
  {
   "cell_type": "code",
   "execution_count": 47,
   "metadata": {
    "id": "98t8iiJyuj80"
   },
   "outputs": [
    {
     "name": "stdout",
     "output_type": "stream",
     "text": [
      "T-statistic: -2.3600620723465626, P-value: 0.01860983364199048\n",
      "Rejeitamos a hipótese nula: existe uma diferença significativa na receita média.\n"
     ]
    }
   ],
   "source": [
    "# Teste as hipóteses\n",
    "\n",
    "# Incluindo coluna 'city'\n",
    "usage_with_city = pd.merge(usage_per_user, users[['user_id', 'city']], on='user_id', how='left')\n",
    "\n",
    "# Separação das receitas baseadas na localização dos usuários\n",
    "ny_nj_revenue = usage_with_city[usage_with_city['city'].str.contains(\"NY-NJ\")]['income_month']\n",
    "other_revenue = usage_with_city[~usage_with_city['city'].str.contains(\"NY-NJ\")]['income_month']\n",
    "\n",
    "# Realização do teste t para amostras independentes\n",
    "t_st, p_value = st.ttest_ind(ny_nj_revenue, other_revenue, equal_var=False)\n",
    "\n",
    "# Impressão do resultado do teste\n",
    "print(f'T-statistic: {t_st}, P-value: {p_value}')\n",
    "\n",
    "# Decisão sobre a hipótese nula com alfa = 0.05\n",
    "alpha = 0.05\n",
    "if p_value < alpha:\n",
    "    print(\"Rejeitamos a hipótese nula: existe uma diferença significativa na receita média.\")\n",
    "else:\n",
    "    print(\"Não rejeitamos a hipótese nula: não há diferença significativa na receita média.\")"
   ]
  },
  {
   "cell_type": "markdown",
   "metadata": {},
   "source": [
    "<i style=\"color:darkblue;\">As hipóteses nula e alternativa são formuladas da seguinte maneira:\n",
    "\n",
    "1. **Hipótese Nula (H0):** A receita média dos usuários da área de NY-NJ é igual à receita média dos usuários das outras regiões.\n",
    "2. **Hipótese Alternativa (H1):** A receita média dos usuários da área de NY-NJ difere da receita média dos usuários das outras regiões.\n",
    "    \n",
    "Utilizamos o teste t para amostras independentes, pois estamos comparando as médias de duas amostras independentes (receitas dos usuários de NY-NJ e receitas dos usuários de outras regiões). Escolhemos um nível de significância (alfa) de 0.05 para tomar a decisão sobre a hipótese nula.\n",
    "\n",
    "Se o valor-p resultante do teste for menor que o valor alfa (0.05), rejeitamos a hipótese nula e concluímos que há uma diferença significativa na receita média entre os usuários da área de NY-NJ e os usuários das outras regiões. Caso contrário, se o valor-p for maior que alfa, não rejeitamos a hipótese nula e concluímos que não há evidência suficiente para afirmar que a receita média difere entre os dois grupos de usuários.</i>"
   ]
  },
  {
   "cell_type": "markdown",
   "metadata": {
    "id": "M8WycwWFuj81"
   },
   "source": [
    "## Conclusão geral\n",
    "\n",
    "\n",
    "1. **Comportamento do usuário:**\n",
    "* Observamos variações significativas no uso de chamadas, mensagens e internet ao longo dos meses do ano.\n",
    "* Os usuários do plano \"Surf\" tendem a enviar mais mensagens e usar mais internet do que os usuários do plano \"Ultimate\", enquanto os usuários do plano \"Ultimate\" tendem a fazer mais chamadas.\n",
    "\n",
    "2. **Receita dos planos:**\n",
    "* Calculamos a receita mensal para cada usuário com base nos planos contratados e no uso adicional de minutos, mensagens e internet. Observamos uma variação nas receitas, com alguns usuários excedendo os limites de seus planos e pagando por serviços adicionais.\n",
    "* As estatísticas descritivas das receitas mostraram que a média de receita mensal para o plano \"Surf\" é de aproximadamente $57.29, com um desvio padrão de $53.74, enquanto para o plano \"Ultimate\" a média é de $72.12, com um desvio padrão de $10.77.\n",
    "\n",
    "3. **Análise de região:**\n",
    "* Podemos concluir que há uma diferença significativa na receita média entre os usuários da área de NY-NJ e os das demais regiões. Isso sugere que os padrões de uso e gastos dos usuários da área de NY-NJ podem ser distintos daqueles de outras regiões. Essa diferença na receita pode ser influenciada por uma variedade de fatores, como hábitos de comunicação, preferências de consumo de dados, densidade populacional, perfil socioeconômico ou até mesmo diferenças culturais.\n",
    "\n",
    "4. **Comparação entre planos:**\n",
    "* Ao testar a hipótese de que as receitas médias dos usuários dos planos de chamadas \"Ultimate\" e \"Surf\" são diferentes, rejeitamos a hipótese nula, indicando que há uma diferença significativa entre as receitas médias desses dois planos.\n",
    "\n",
    "5. **Considerações finais:**\n",
    "* As análises realizadas forneceram insights valiosos sobre o comportamento dos usuários e as diferenças nas receitas entre os planos e regiões.\n",
    "* Com base nas conclusões, estratégias de marketing e ajustes nos planos podem ser considerados para melhor atender às necessidades dos clientes e maximizar a receita da empresa."
   ]
  }
 ],
 "metadata": {
  "ExecuteTimeLog": [
   {
    "duration": 828,
    "start_time": "2021-11-16T09:21:11.304Z"
   },
   {
    "duration": 893,
    "start_time": "2021-11-16T09:21:17.728Z"
   },
   {
    "duration": 1150,
    "start_time": "2021-11-16T09:21:29.568Z"
   },
   {
    "duration": 3,
    "start_time": "2021-11-16T09:24:14.495Z"
   },
   {
    "duration": 120,
    "start_time": "2021-11-16T09:24:46.630Z"
   },
   {
    "duration": 3,
    "start_time": "2021-11-16T09:28:27.882Z"
   },
   {
    "duration": 4,
    "start_time": "2021-11-16T09:29:54.281Z"
   },
   {
    "duration": 3,
    "start_time": "2021-11-16T09:30:45.936Z"
   },
   {
    "duration": 4,
    "start_time": "2021-11-16T09:31:06.300Z"
   },
   {
    "duration": 113,
    "start_time": "2021-11-16T09:31:37.208Z"
   },
   {
    "duration": 143,
    "start_time": "2021-11-16T09:31:48.656Z"
   },
   {
    "duration": 98,
    "start_time": "2021-11-16T09:31:55.678Z"
   },
   {
    "duration": 3,
    "start_time": "2021-11-16T09:32:08.535Z"
   },
   {
    "duration": 111,
    "start_time": "2021-11-16T09:32:10.120Z"
   },
   {
    "duration": 3,
    "start_time": "2021-11-16T09:32:15.732Z"
   },
   {
    "duration": 4,
    "start_time": "2021-11-16T09:32:29.423Z"
   },
   {
    "duration": 3,
    "start_time": "2021-11-16T10:03:03.074Z"
   },
   {
    "duration": 3,
    "start_time": "2021-11-16T10:10:01.288Z"
   },
   {
    "duration": 3,
    "start_time": "2021-11-16T10:10:46.923Z"
   },
   {
    "duration": 121,
    "start_time": "2021-11-16T10:37:46.494Z"
   },
   {
    "duration": 125,
    "start_time": "2021-11-16T10:38:20.632Z"
   },
   {
    "duration": 112,
    "start_time": "2021-11-16T10:46:53.001Z"
   },
   {
    "duration": 110,
    "start_time": "2021-11-16T10:48:25.775Z"
   },
   {
    "duration": 3,
    "start_time": "2021-11-16T10:50:18.720Z"
   },
   {
    "duration": 4,
    "start_time": "2021-11-16T10:50:37.649Z"
   },
   {
    "duration": 2,
    "start_time": "2021-11-16T10:50:51.884Z"
   },
   {
    "duration": 3,
    "start_time": "2021-11-16T10:51:56.237Z"
   },
   {
    "duration": 101,
    "start_time": "2021-11-16T10:53:13.791Z"
   },
   {
    "duration": 3,
    "start_time": "2021-11-16T10:55:59.186Z"
   },
   {
    "duration": 3,
    "start_time": "2021-11-16T10:56:10.751Z"
   },
   {
    "duration": 3,
    "start_time": "2021-11-16T10:56:49.038Z"
   },
   {
    "duration": 3,
    "start_time": "2021-11-16T10:56:49.174Z"
   },
   {
    "duration": 4,
    "start_time": "2021-11-16T10:56:49.414Z"
   },
   {
    "duration": 3,
    "start_time": "2021-11-16T10:56:49.680Z"
   },
   {
    "duration": 3,
    "start_time": "2021-11-16T10:56:50.370Z"
   },
   {
    "duration": 114,
    "start_time": "2021-11-16T10:59:34.518Z"
   },
   {
    "duration": 3,
    "start_time": "2021-11-16T11:01:41.201Z"
   },
   {
    "duration": 116,
    "start_time": "2021-11-16T11:01:48.754Z"
   },
   {
    "duration": 3,
    "start_time": "2021-11-16T11:02:16.685Z"
   },
   {
    "duration": 3,
    "start_time": "2021-11-16T11:02:19.479Z"
   },
   {
    "duration": 3,
    "start_time": "2021-11-16T11:02:47.067Z"
   },
   {
    "duration": 3,
    "start_time": "2021-11-16T11:02:49.353Z"
   },
   {
    "duration": 3,
    "start_time": "2021-11-16T11:03:07.835Z"
   },
   {
    "duration": 3,
    "start_time": "2021-11-16T11:03:07.953Z"
   },
   {
    "duration": 112,
    "start_time": "2021-11-16T11:07:52.072Z"
   },
   {
    "duration": 187,
    "start_time": "2021-11-16T11:09:23.468Z"
   },
   {
    "duration": 4,
    "start_time": "2021-11-16T11:10:01.455Z"
   },
   {
    "duration": 3,
    "start_time": "2021-11-16T11:10:05.069Z"
   },
   {
    "duration": 4,
    "start_time": "2021-11-16T11:10:13.376Z"
   },
   {
    "duration": 3,
    "start_time": "2021-11-16T11:10:14.434Z"
   },
   {
    "duration": 3,
    "start_time": "2021-11-16T11:10:22.853Z"
   },
   {
    "duration": 4,
    "start_time": "2021-11-16T11:27:29.279Z"
   },
   {
    "duration": 4,
    "start_time": "2021-11-16T11:29:08.919Z"
   },
   {
    "duration": 118,
    "start_time": "2021-11-16T11:29:46.703Z"
   },
   {
    "duration": 437,
    "start_time": "2021-11-16T11:36:02.181Z"
   },
   {
    "duration": 157,
    "start_time": "2021-11-16T11:36:14.388Z"
   },
   {
    "duration": 207,
    "start_time": "2021-11-16T11:47:15.898Z"
   },
   {
    "duration": 3,
    "start_time": "2021-11-16T11:53:52.092Z"
   },
   {
    "duration": 3,
    "start_time": "2021-11-16T11:53:52.236Z"
   },
   {
    "duration": 3,
    "start_time": "2021-11-16T11:59:12.005Z"
   },
   {
    "duration": 112,
    "start_time": "2021-11-16T12:00:33.446Z"
   },
   {
    "duration": 3,
    "start_time": "2021-11-16T12:02:14.453Z"
   },
   {
    "duration": 3,
    "start_time": "2021-11-16T12:02:39.512Z"
   },
   {
    "duration": 106,
    "start_time": "2021-11-16T12:03:03.460Z"
   },
   {
    "duration": 3,
    "start_time": "2021-11-17T20:37:21.139Z"
   },
   {
    "duration": 3,
    "start_time": "2021-11-17T20:37:22.229Z"
   },
   {
    "duration": 3,
    "start_time": "2021-11-17T20:38:38.806Z"
   },
   {
    "duration": 3,
    "start_time": "2021-11-17T20:38:41.958Z"
   },
   {
    "duration": 3,
    "start_time": "2021-11-17T20:43:46.551Z"
   },
   {
    "duration": 4,
    "start_time": "2021-11-17T20:58:21.835Z"
   },
   {
    "duration": 3,
    "start_time": "2021-11-17T20:59:21.872Z"
   },
   {
    "duration": 4,
    "start_time": "2021-11-17T20:59:45.352Z"
   },
   {
    "duration": 4,
    "start_time": "2021-11-17T20:59:49.646Z"
   },
   {
    "duration": 159,
    "start_time": "2021-11-17T21:02:26.949Z"
   },
   {
    "duration": 3,
    "start_time": "2021-11-17T21:03:53.461Z"
   },
   {
    "duration": 3,
    "start_time": "2021-11-17T21:03:53.694Z"
   },
   {
    "duration": 3,
    "start_time": "2021-11-17T21:05:28.145Z"
   },
   {
    "duration": 116,
    "start_time": "2021-11-17T21:05:57.787Z"
   },
   {
    "duration": 3,
    "start_time": "2021-11-17T21:06:37.993Z"
   },
   {
    "duration": 3,
    "start_time": "2021-11-17T21:06:38.261Z"
   },
   {
    "duration": 3,
    "start_time": "2021-11-17T21:11:54.358Z"
   },
   {
    "duration": 3,
    "start_time": "2021-11-17T21:12:43.846Z"
   },
   {
    "duration": 4,
    "start_time": "2021-11-17T21:13:08.773Z"
   },
   {
    "duration": 3,
    "start_time": "2021-11-17T21:14:44.441Z"
   },
   {
    "duration": 3,
    "start_time": "2021-11-17T21:15:42.059Z"
   },
   {
    "duration": 4,
    "start_time": "2021-11-17T21:15:51.995Z"
   },
   {
    "duration": 3,
    "start_time": "2021-11-17T21:15:53.923Z"
   },
   {
    "duration": 3,
    "start_time": "2021-11-17T21:15:55.282Z"
   },
   {
    "duration": 3,
    "start_time": "2021-11-17T21:16:28.492Z"
   },
   {
    "duration": 3,
    "start_time": "2021-11-17T21:16:32.603Z"
   },
   {
    "duration": 3,
    "start_time": "2021-11-17T21:17:06.941Z"
   },
   {
    "duration": 98,
    "start_time": "2021-11-17T21:18:05.733Z"
   },
   {
    "duration": 4,
    "start_time": "2021-11-17T21:21:35.255Z"
   },
   {
    "duration": 3,
    "start_time": "2021-11-17T21:21:37.804Z"
   },
   {
    "duration": 4,
    "start_time": "2021-11-17T21:23:06.071Z"
   },
   {
    "duration": 3,
    "start_time": "2021-11-17T21:23:24.799Z"
   },
   {
    "duration": 3,
    "start_time": "2021-11-17T21:23:32.591Z"
   },
   {
    "duration": 98,
    "start_time": "2021-11-17T21:28:31.559Z"
   },
   {
    "duration": 3,
    "start_time": "2021-11-17T21:28:45.448Z"
   },
   {
    "duration": 3,
    "start_time": "2021-11-17T21:29:17.303Z"
   },
   {
    "duration": 3,
    "start_time": "2021-11-17T21:29:29.617Z"
   },
   {
    "duration": 3,
    "start_time": "2021-11-17T21:29:32.681Z"
   },
   {
    "duration": 3,
    "start_time": "2021-11-17T21:36:11.474Z"
   },
   {
    "duration": 3,
    "start_time": "2021-11-17T21:36:14.791Z"
   },
   {
    "duration": 3,
    "start_time": "2021-11-17T21:36:53.943Z"
   },
   {
    "duration": 3,
    "start_time": "2021-11-17T21:36:56.165Z"
   },
   {
    "duration": 4,
    "start_time": "2021-11-17T21:37:16.590Z"
   },
   {
    "duration": 3,
    "start_time": "2021-11-17T21:37:22.702Z"
   },
   {
    "duration": 4,
    "start_time": "2021-11-17T21:38:03.479Z"
   },
   {
    "duration": 3,
    "start_time": "2021-11-17T21:38:08.601Z"
   },
   {
    "duration": 3,
    "start_time": "2021-11-17T21:38:12.928Z"
   },
   {
    "duration": 3,
    "start_time": "2021-11-17T21:38:48.896Z"
   },
   {
    "duration": 2,
    "start_time": "2021-11-17T21:38:49.171Z"
   },
   {
    "duration": 4,
    "start_time": "2021-11-17T21:39:57.889Z"
   },
   {
    "duration": 3,
    "start_time": "2021-11-17T21:39:58.057Z"
   },
   {
    "duration": 3,
    "start_time": "2021-11-17T21:41:20.108Z"
   },
   {
    "duration": 3,
    "start_time": "2021-11-17T21:41:20.629Z"
   },
   {
    "duration": 3,
    "start_time": "2021-11-17T21:42:49.136Z"
   },
   {
    "duration": 3,
    "start_time": "2021-11-17T21:43:15.137Z"
   },
   {
    "duration": 4,
    "start_time": "2021-11-17T21:43:16.766Z"
   },
   {
    "duration": 4,
    "start_time": "2021-11-17T21:43:31.711Z"
   },
   {
    "duration": 3,
    "start_time": "2021-11-17T21:43:36.312Z"
   },
   {
    "duration": 4,
    "start_time": "2021-11-17T21:45:08.825Z"
   },
   {
    "duration": 4,
    "start_time": "2021-11-17T21:45:10.119Z"
   },
   {
    "duration": 4,
    "start_time": "2021-11-17T21:45:13.748Z"
   },
   {
    "duration": 3,
    "start_time": "2021-11-17T21:45:22.219Z"
   },
   {
    "duration": 3,
    "start_time": "2021-11-17T21:45:33.412Z"
   },
   {
    "duration": 2,
    "start_time": "2021-11-17T21:46:01.885Z"
   },
   {
    "duration": 3,
    "start_time": "2021-11-17T21:46:03.628Z"
   },
   {
    "duration": 107,
    "start_time": "2021-11-17T21:47:32.512Z"
   },
   {
    "duration": 103,
    "start_time": "2021-11-17T21:50:36.243Z"
   },
   {
    "duration": 3,
    "start_time": "2021-11-18T06:28:31.440Z"
   },
   {
    "duration": 3,
    "start_time": "2021-11-18T06:29:00.168Z"
   },
   {
    "duration": 3,
    "start_time": "2021-11-18T06:31:27.008Z"
   },
   {
    "duration": 2,
    "start_time": "2021-11-18T06:35:34.288Z"
   },
   {
    "duration": 2,
    "start_time": "2021-11-18T06:38:04.527Z"
   }
  ],
  "colab": {
   "provenance": []
  },
  "kernelspec": {
   "display_name": "base",
   "language": "python",
   "name": "python3"
  },
  "language_info": {
   "codemirror_mode": {
    "name": "ipython",
    "version": 3
   },
   "file_extension": ".py",
   "mimetype": "text/x-python",
   "name": "python",
   "nbconvert_exporter": "python",
   "pygments_lexer": "ipython3",
   "version": "3.11.5"
  },
  "toc": {
   "base_numbering": 1,
   "nav_menu": {},
   "number_sections": true,
   "sideBar": true,
   "skip_h1_title": false,
   "title_cell": "Table of Contents",
   "title_sidebar": "Contents",
   "toc_cell": false,
   "toc_position": {},
   "toc_section_display": true,
   "toc_window_display": true
  }
 },
 "nbformat": 4,
 "nbformat_minor": 1
}
